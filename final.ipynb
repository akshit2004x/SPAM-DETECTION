{
  "cells": [
    {
      "cell_type": "code",
      "execution_count": 1,
      "metadata": {
        "id": "T423s-lF-YcO"
      },
      "outputs": [],
      "source": [
        "import numpy as np\n",
        "import pandas as pd\n",
        "import matplotlib.pyplot as plt\n",
        "import seaborn as sns\n",
        "from sklearn.feature_extraction.text import CountVectorizer"
      ]
    },
    {
      "cell_type": "code",
      "execution_count": 2,
      "metadata": {
        "id": "NDiKgc8eBGat"
      },
      "outputs": [],
      "source": [
        "df1=pd.read_csv(\"Youtube04-Eminem.csv\")\n",
        "df2=pd.read_csv(\"Youtube02-KatyPerry.csv\")\n",
        "df3=pd.read_csv(\"Youtube01-Psy.csv\")\n",
        "df4=pd.read_csv(\"Youtube03-LMFAO.csv\")\n",
        "df5=pd.read_csv(\"Youtube05-Shakira.csv\")"
      ]
    },
    {
      "cell_type": "code",
      "execution_count": 3,
      "metadata": {
        "colab": {
          "base_uri": "https://localhost:8080/",
          "height": 258
        },
        "id": "XcHjZ7obBVWH",
        "outputId": "1d21203f-5577-48ac-c859-46e8a94065e8"
      },
      "outputs": [
        {
          "data": {
            "text/html": [
              "<div>\n",
              "<style scoped>\n",
              "    .dataframe tbody tr th:only-of-type {\n",
              "        vertical-align: middle;\n",
              "    }\n",
              "\n",
              "    .dataframe tbody tr th {\n",
              "        vertical-align: top;\n",
              "    }\n",
              "\n",
              "    .dataframe thead th {\n",
              "        text-align: right;\n",
              "    }\n",
              "</style>\n",
              "<table border=\"1\" class=\"dataframe\">\n",
              "  <thead>\n",
              "    <tr style=\"text-align: right;\">\n",
              "      <th></th>\n",
              "      <th>COMMENT_ID</th>\n",
              "      <th>AUTHOR</th>\n",
              "      <th>DATE</th>\n",
              "      <th>CONTENT</th>\n",
              "      <th>CLASS</th>\n",
              "    </tr>\n",
              "  </thead>\n",
              "  <tbody>\n",
              "    <tr>\n",
              "      <th>0</th>\n",
              "      <td>z12rwfnyyrbsefonb232i5ehdxzkjzjs2</td>\n",
              "      <td>Lisa Wellas</td>\n",
              "      <td>NaN</td>\n",
              "      <td>+447935454150 lovely girl talk to me xxx﻿</td>\n",
              "      <td>1</td>\n",
              "    </tr>\n",
              "    <tr>\n",
              "      <th>1</th>\n",
              "      <td>z130wpnwwnyuetxcn23xf5k5ynmkdpjrj04</td>\n",
              "      <td>jason graham</td>\n",
              "      <td>2015-05-29T02:26:10.652000</td>\n",
              "      <td>I always end up coming back to this song&lt;br /&gt;﻿</td>\n",
              "      <td>0</td>\n",
              "    </tr>\n",
              "    <tr>\n",
              "      <th>2</th>\n",
              "      <td>z13vsfqirtavjvu0t22ezrgzyorwxhpf3</td>\n",
              "      <td>Ajkal Khan</td>\n",
              "      <td>NaN</td>\n",
              "      <td>my sister just received over 6,500 new &lt;a rel=...</td>\n",
              "      <td>1</td>\n",
              "    </tr>\n",
              "    <tr>\n",
              "      <th>3</th>\n",
              "      <td>z12wjzc4eprnvja4304cgbbizuved35wxcs</td>\n",
              "      <td>Dakota Taylor</td>\n",
              "      <td>2015-05-29T02:13:07.810000</td>\n",
              "      <td>Cool﻿</td>\n",
              "      <td>0</td>\n",
              "    </tr>\n",
              "    <tr>\n",
              "      <th>4</th>\n",
              "      <td>z13xjfr42z3uxdz2223gx5rrzs3dt5hna</td>\n",
              "      <td>Jihad Naser</td>\n",
              "      <td>NaN</td>\n",
              "      <td>Hello I&amp;#39;am from Palastine﻿</td>\n",
              "      <td>1</td>\n",
              "    </tr>\n",
              "  </tbody>\n",
              "</table>\n",
              "</div>"
            ],
            "text/plain": [
              "                            COMMENT_ID         AUTHOR  \\\n",
              "0    z12rwfnyyrbsefonb232i5ehdxzkjzjs2    Lisa Wellas   \n",
              "1  z130wpnwwnyuetxcn23xf5k5ynmkdpjrj04   jason graham   \n",
              "2    z13vsfqirtavjvu0t22ezrgzyorwxhpf3     Ajkal Khan   \n",
              "3  z12wjzc4eprnvja4304cgbbizuved35wxcs  Dakota Taylor   \n",
              "4    z13xjfr42z3uxdz2223gx5rrzs3dt5hna    Jihad Naser   \n",
              "\n",
              "                         DATE  \\\n",
              "0                         NaN   \n",
              "1  2015-05-29T02:26:10.652000   \n",
              "2                         NaN   \n",
              "3  2015-05-29T02:13:07.810000   \n",
              "4                         NaN   \n",
              "\n",
              "                                             CONTENT  CLASS  \n",
              "0          +447935454150 lovely girl talk to me xxx﻿      1  \n",
              "1    I always end up coming back to this song<br />﻿      0  \n",
              "2  my sister just received over 6,500 new <a rel=...      1  \n",
              "3                                              Cool﻿      0  \n",
              "4                     Hello I&#39;am from Palastine﻿      1  "
            ]
          },
          "execution_count": 3,
          "metadata": {},
          "output_type": "execute_result"
        }
      ],
      "source": [
        "df1.head()"
      ]
    },
    {
      "cell_type": "code",
      "execution_count": 4,
      "metadata": {
        "colab": {
          "base_uri": "https://localhost:8080/",
          "height": 206
        },
        "id": "Pnt-TjHaDv6T",
        "outputId": "a6b4b1c9-864a-4282-fb07-ccbe5a9ae8f2"
      },
      "outputs": [
        {
          "data": {
            "text/html": [
              "<div>\n",
              "<style scoped>\n",
              "    .dataframe tbody tr th:only-of-type {\n",
              "        vertical-align: middle;\n",
              "    }\n",
              "\n",
              "    .dataframe tbody tr th {\n",
              "        vertical-align: top;\n",
              "    }\n",
              "\n",
              "    .dataframe thead th {\n",
              "        text-align: right;\n",
              "    }\n",
              "</style>\n",
              "<table border=\"1\" class=\"dataframe\">\n",
              "  <thead>\n",
              "    <tr style=\"text-align: right;\">\n",
              "      <th></th>\n",
              "      <th>COMMENT_ID</th>\n",
              "      <th>AUTHOR</th>\n",
              "      <th>DATE</th>\n",
              "      <th>CONTENT</th>\n",
              "      <th>CLASS</th>\n",
              "    </tr>\n",
              "  </thead>\n",
              "  <tbody>\n",
              "    <tr>\n",
              "      <th>0</th>\n",
              "      <td>z12pgdhovmrktzm3i23es5d5junftft3f</td>\n",
              "      <td>lekanaVEVO1</td>\n",
              "      <td>2014-07-22T15:27:50</td>\n",
              "      <td>i love this so much. AND also I Generate Free ...</td>\n",
              "      <td>1</td>\n",
              "    </tr>\n",
              "    <tr>\n",
              "      <th>1</th>\n",
              "      <td>z13yx345uxepetggz04ci5rjcxeohzlrtf4</td>\n",
              "      <td>Pyunghee</td>\n",
              "      <td>2014-07-27T01:57:16</td>\n",
              "      <td>http://www.billboard.com/articles/columns/pop-...</td>\n",
              "      <td>1</td>\n",
              "    </tr>\n",
              "    <tr>\n",
              "      <th>2</th>\n",
              "      <td>z12lsjvi3wa5x1vwh04cibeaqnzrevxajw00k</td>\n",
              "      <td>Erica Ross</td>\n",
              "      <td>2014-07-27T02:51:43</td>\n",
              "      <td>Hey guys! Please join me in my fight to help a...</td>\n",
              "      <td>1</td>\n",
              "    </tr>\n",
              "    <tr>\n",
              "      <th>3</th>\n",
              "      <td>z13jcjuovxbwfr0ge04cev2ipsjdfdurwck</td>\n",
              "      <td>Aviel Haimov</td>\n",
              "      <td>2014-08-01T12:27:48</td>\n",
              "      <td>http://psnboss.com/?ref=2tGgp3pV6L this is the...</td>\n",
              "      <td>1</td>\n",
              "    </tr>\n",
              "    <tr>\n",
              "      <th>4</th>\n",
              "      <td>z13qybua2yfydzxzj04cgfpqdt2syfx53ms0k</td>\n",
              "      <td>John Bello</td>\n",
              "      <td>2014-08-01T21:04:03</td>\n",
              "      <td>Hey everyone. Watch this trailer!!!!!!!!  http...</td>\n",
              "      <td>1</td>\n",
              "    </tr>\n",
              "  </tbody>\n",
              "</table>\n",
              "</div>"
            ],
            "text/plain": [
              "                              COMMENT_ID        AUTHOR                 DATE  \\\n",
              "0      z12pgdhovmrktzm3i23es5d5junftft3f   lekanaVEVO1  2014-07-22T15:27:50   \n",
              "1    z13yx345uxepetggz04ci5rjcxeohzlrtf4      Pyunghee  2014-07-27T01:57:16   \n",
              "2  z12lsjvi3wa5x1vwh04cibeaqnzrevxajw00k    Erica Ross  2014-07-27T02:51:43   \n",
              "3    z13jcjuovxbwfr0ge04cev2ipsjdfdurwck  Aviel Haimov  2014-08-01T12:27:48   \n",
              "4  z13qybua2yfydzxzj04cgfpqdt2syfx53ms0k    John Bello  2014-08-01T21:04:03   \n",
              "\n",
              "                                             CONTENT  CLASS  \n",
              "0  i love this so much. AND also I Generate Free ...      1  \n",
              "1  http://www.billboard.com/articles/columns/pop-...      1  \n",
              "2  Hey guys! Please join me in my fight to help a...      1  \n",
              "3  http://psnboss.com/?ref=2tGgp3pV6L this is the...      1  \n",
              "4  Hey everyone. Watch this trailer!!!!!!!!  http...      1  "
            ]
          },
          "execution_count": 4,
          "metadata": {},
          "output_type": "execute_result"
        }
      ],
      "source": [
        "df2.head()"
      ]
    },
    {
      "cell_type": "code",
      "execution_count": 5,
      "metadata": {
        "colab": {
          "base_uri": "https://localhost:8080/",
          "height": 293
        },
        "id": "PkRzJaf7BXU7",
        "outputId": "65b5d06f-ed91-412b-9ce0-ecf25d549bd6"
      },
      "outputs": [
        {
          "data": {
            "text/html": [
              "<div>\n",
              "<style scoped>\n",
              "    .dataframe tbody tr th:only-of-type {\n",
              "        vertical-align: middle;\n",
              "    }\n",
              "\n",
              "    .dataframe tbody tr th {\n",
              "        vertical-align: top;\n",
              "    }\n",
              "\n",
              "    .dataframe thead th {\n",
              "        text-align: right;\n",
              "    }\n",
              "</style>\n",
              "<table border=\"1\" class=\"dataframe\">\n",
              "  <thead>\n",
              "    <tr style=\"text-align: right;\">\n",
              "      <th></th>\n",
              "      <th>COMMENT_ID</th>\n",
              "      <th>AUTHOR</th>\n",
              "      <th>DATE</th>\n",
              "      <th>CONTENT</th>\n",
              "      <th>CLASS</th>\n",
              "    </tr>\n",
              "  </thead>\n",
              "  <tbody>\n",
              "    <tr>\n",
              "      <th>0</th>\n",
              "      <td>LZQPQhLyRh80UYxNuaDWhIGQYNQ96IuCg-AYWqNPjpU</td>\n",
              "      <td>Julius NM</td>\n",
              "      <td>2013-11-07T06:20:48</td>\n",
              "      <td>Huh, anyway check out this you[tube] channel: ...</td>\n",
              "      <td>1</td>\n",
              "    </tr>\n",
              "    <tr>\n",
              "      <th>1</th>\n",
              "      <td>LZQPQhLyRh_C2cTtd9MvFRJedxydaVW-2sNg5Diuo4A</td>\n",
              "      <td>adam riyati</td>\n",
              "      <td>2013-11-07T12:37:15</td>\n",
              "      <td>Hey guys check out my new channel and our firs...</td>\n",
              "      <td>1</td>\n",
              "    </tr>\n",
              "    <tr>\n",
              "      <th>2</th>\n",
              "      <td>LZQPQhLyRh9MSZYnf8djyk0gEF9BHDPYrrK-qCczIY8</td>\n",
              "      <td>Evgeny Murashkin</td>\n",
              "      <td>2013-11-08T17:34:21</td>\n",
              "      <td>just for test I have to say murdev.com</td>\n",
              "      <td>1</td>\n",
              "    </tr>\n",
              "    <tr>\n",
              "      <th>3</th>\n",
              "      <td>z13jhp0bxqncu512g22wvzkasxmvvzjaz04</td>\n",
              "      <td>ElNino Melendez</td>\n",
              "      <td>2013-11-09T08:28:43</td>\n",
              "      <td>me shaking my sexy ass on my channel enjoy ^_^ ﻿</td>\n",
              "      <td>1</td>\n",
              "    </tr>\n",
              "    <tr>\n",
              "      <th>4</th>\n",
              "      <td>z13fwbwp1oujthgqj04chlngpvzmtt3r3dw</td>\n",
              "      <td>GsMega</td>\n",
              "      <td>2013-11-10T16:05:38</td>\n",
              "      <td>watch?v=vtaRGgvGtWQ   Check this out .﻿</td>\n",
              "      <td>1</td>\n",
              "    </tr>\n",
              "  </tbody>\n",
              "</table>\n",
              "</div>"
            ],
            "text/plain": [
              "                                    COMMENT_ID            AUTHOR  \\\n",
              "0  LZQPQhLyRh80UYxNuaDWhIGQYNQ96IuCg-AYWqNPjpU         Julius NM   \n",
              "1  LZQPQhLyRh_C2cTtd9MvFRJedxydaVW-2sNg5Diuo4A       adam riyati   \n",
              "2  LZQPQhLyRh9MSZYnf8djyk0gEF9BHDPYrrK-qCczIY8  Evgeny Murashkin   \n",
              "3          z13jhp0bxqncu512g22wvzkasxmvvzjaz04   ElNino Melendez   \n",
              "4          z13fwbwp1oujthgqj04chlngpvzmtt3r3dw            GsMega   \n",
              "\n",
              "                  DATE                                            CONTENT  \\\n",
              "0  2013-11-07T06:20:48  Huh, anyway check out this you[tube] channel: ...   \n",
              "1  2013-11-07T12:37:15  Hey guys check out my new channel and our firs...   \n",
              "2  2013-11-08T17:34:21             just for test I have to say murdev.com   \n",
              "3  2013-11-09T08:28:43   me shaking my sexy ass on my channel enjoy ^_^ ﻿   \n",
              "4  2013-11-10T16:05:38            watch?v=vtaRGgvGtWQ   Check this out .﻿   \n",
              "\n",
              "   CLASS  \n",
              "0      1  \n",
              "1      1  \n",
              "2      1  \n",
              "3      1  \n",
              "4      1  "
            ]
          },
          "execution_count": 5,
          "metadata": {},
          "output_type": "execute_result"
        }
      ],
      "source": [
        "df3.head()"
      ]
    },
    {
      "cell_type": "code",
      "execution_count": 6,
      "metadata": {
        "colab": {
          "base_uri": "https://localhost:8080/",
          "height": 293
        },
        "id": "qRvtxG-GD3wV",
        "outputId": "9a9131fe-adb8-4c7d-e87b-c1637b45165a"
      },
      "outputs": [
        {
          "data": {
            "text/html": [
              "<div>\n",
              "<style scoped>\n",
              "    .dataframe tbody tr th:only-of-type {\n",
              "        vertical-align: middle;\n",
              "    }\n",
              "\n",
              "    .dataframe tbody tr th {\n",
              "        vertical-align: top;\n",
              "    }\n",
              "\n",
              "    .dataframe thead th {\n",
              "        text-align: right;\n",
              "    }\n",
              "</style>\n",
              "<table border=\"1\" class=\"dataframe\">\n",
              "  <thead>\n",
              "    <tr style=\"text-align: right;\">\n",
              "      <th></th>\n",
              "      <th>COMMENT_ID</th>\n",
              "      <th>AUTHOR</th>\n",
              "      <th>DATE</th>\n",
              "      <th>CONTENT</th>\n",
              "      <th>CLASS</th>\n",
              "    </tr>\n",
              "  </thead>\n",
              "  <tbody>\n",
              "    <tr>\n",
              "      <th>0</th>\n",
              "      <td>z13uwn2heqndtr5g304ccv5j5kqqzxjadmc0k</td>\n",
              "      <td>Corey Wilson</td>\n",
              "      <td>2015-05-28T21:39:52.376000</td>\n",
              "      <td>&lt;a href=\"http://www.youtube.com/watch?v=KQ6zr6...</td>\n",
              "      <td>0</td>\n",
              "    </tr>\n",
              "    <tr>\n",
              "      <th>1</th>\n",
              "      <td>z124jvczaz3dxhnbc04cffk43oiugj25yzo0k</td>\n",
              "      <td>Epic Gaming</td>\n",
              "      <td>2015-05-28T20:07:20.610000</td>\n",
              "      <td>wierd but funny﻿</td>\n",
              "      <td>0</td>\n",
              "    </tr>\n",
              "    <tr>\n",
              "      <th>2</th>\n",
              "      <td>z13tczjy5xj0vjmu5231unho1ofey5zdk</td>\n",
              "      <td>LaS Music</td>\n",
              "      <td>2015-05-28T19:23:35.355000</td>\n",
              "      <td>Hey guys, I&amp;#39;m a human.&lt;br /&gt;&lt;br /&gt;&lt;br /&gt;Bu...</td>\n",
              "      <td>1</td>\n",
              "    </tr>\n",
              "    <tr>\n",
              "      <th>3</th>\n",
              "      <td>z13tzr0hdpnayhqqc04cd3zqqqjkf3ngckk0k</td>\n",
              "      <td>Cheryl Fox</td>\n",
              "      <td>2015-05-28T17:49:35.294000</td>\n",
              "      <td>Party Rock....lol...who wants to shuffle!!!﻿</td>\n",
              "      <td>0</td>\n",
              "    </tr>\n",
              "    <tr>\n",
              "      <th>4</th>\n",
              "      <td>z12pcvix4zedcjvyb04ccr1r0mr2g5xwyng0k</td>\n",
              "      <td>PATRICK_TW</td>\n",
              "      <td>2015-05-28T16:28:26.818000</td>\n",
              "      <td>Party rock﻿</td>\n",
              "      <td>0</td>\n",
              "    </tr>\n",
              "  </tbody>\n",
              "</table>\n",
              "</div>"
            ],
            "text/plain": [
              "                              COMMENT_ID        AUTHOR  \\\n",
              "0  z13uwn2heqndtr5g304ccv5j5kqqzxjadmc0k  Corey Wilson   \n",
              "1  z124jvczaz3dxhnbc04cffk43oiugj25yzo0k   Epic Gaming   \n",
              "2      z13tczjy5xj0vjmu5231unho1ofey5zdk     LaS Music   \n",
              "3  z13tzr0hdpnayhqqc04cd3zqqqjkf3ngckk0k    Cheryl Fox   \n",
              "4  z12pcvix4zedcjvyb04ccr1r0mr2g5xwyng0k    PATRICK_TW   \n",
              "\n",
              "                         DATE  \\\n",
              "0  2015-05-28T21:39:52.376000   \n",
              "1  2015-05-28T20:07:20.610000   \n",
              "2  2015-05-28T19:23:35.355000   \n",
              "3  2015-05-28T17:49:35.294000   \n",
              "4  2015-05-28T16:28:26.818000   \n",
              "\n",
              "                                             CONTENT  CLASS  \n",
              "0  <a href=\"http://www.youtube.com/watch?v=KQ6zr6...      0  \n",
              "1                                   wierd but funny﻿      0  \n",
              "2  Hey guys, I&#39;m a human.<br /><br /><br />Bu...      1  \n",
              "3       Party Rock....lol...who wants to shuffle!!!﻿      0  \n",
              "4                                        Party rock﻿      0  "
            ]
          },
          "execution_count": 6,
          "metadata": {},
          "output_type": "execute_result"
        }
      ],
      "source": [
        "df4.head()"
      ]
    },
    {
      "cell_type": "code",
      "execution_count": 8,
      "metadata": {
        "colab": {
          "base_uri": "https://localhost:8080/"
        },
        "id": "osVos3GUD61E",
        "outputId": "a76857bf-25af-4e90-8cb4-0b1197676cc1"
      },
      "outputs": [
        {
          "data": {
            "text/html": [
              "<div>\n",
              "<style scoped>\n",
              "    .dataframe tbody tr th:only-of-type {\n",
              "        vertical-align: middle;\n",
              "    }\n",
              "\n",
              "    .dataframe tbody tr th {\n",
              "        vertical-align: top;\n",
              "    }\n",
              "\n",
              "    .dataframe thead th {\n",
              "        text-align: right;\n",
              "    }\n",
              "</style>\n",
              "<table border=\"1\" class=\"dataframe\">\n",
              "  <thead>\n",
              "    <tr style=\"text-align: right;\">\n",
              "      <th></th>\n",
              "      <th>COMMENT_ID</th>\n",
              "      <th>AUTHOR</th>\n",
              "      <th>DATE</th>\n",
              "      <th>CONTENT</th>\n",
              "      <th>CLASS</th>\n",
              "    </tr>\n",
              "  </thead>\n",
              "  <tbody>\n",
              "    <tr>\n",
              "      <th>0</th>\n",
              "      <td>z13lgffb5w3ddx1ul22qy1wxspy5cpkz504</td>\n",
              "      <td>dharma pal</td>\n",
              "      <td>2015-05-29T02:30:18.971000</td>\n",
              "      <td>Nice song﻿</td>\n",
              "      <td>0</td>\n",
              "    </tr>\n",
              "    <tr>\n",
              "      <th>1</th>\n",
              "      <td>z123dbgb0mqjfxbtz22ucjc5jvzcv3ykj</td>\n",
              "      <td>Tiza Arellano</td>\n",
              "      <td>2015-05-29T00:14:48.748000</td>\n",
              "      <td>I love song ﻿</td>\n",
              "      <td>0</td>\n",
              "    </tr>\n",
              "    <tr>\n",
              "      <th>2</th>\n",
              "      <td>z12quxxp2vutflkxv04cihggzt2azl34pms0k</td>\n",
              "      <td>Prìñçeśś Âliś Łøvê Dømíñø Mâđiś™ ﻿</td>\n",
              "      <td>2015-05-28T21:00:08.607000</td>\n",
              "      <td>I love song ﻿</td>\n",
              "      <td>0</td>\n",
              "    </tr>\n",
              "    <tr>\n",
              "      <th>3</th>\n",
              "      <td>z12icv3ysqvlwth2c23eddlykyqut5z1h</td>\n",
              "      <td>Eric Gonzalez</td>\n",
              "      <td>2015-05-28T20:47:12.193000</td>\n",
              "      <td>860,000,000 lets make it first female to reach...</td>\n",
              "      <td>0</td>\n",
              "    </tr>\n",
              "    <tr>\n",
              "      <th>4</th>\n",
              "      <td>z133stly3kete3tly22petvwdpmghrlli</td>\n",
              "      <td>Analena López</td>\n",
              "      <td>2015-05-28T17:08:29.827000</td>\n",
              "      <td>shakira is best for worldcup﻿</td>\n",
              "      <td>0</td>\n",
              "    </tr>\n",
              "  </tbody>\n",
              "</table>\n",
              "</div>"
            ],
            "text/plain": [
              "                              COMMENT_ID                              AUTHOR  \\\n",
              "0    z13lgffb5w3ddx1ul22qy1wxspy5cpkz504                          dharma pal   \n",
              "1      z123dbgb0mqjfxbtz22ucjc5jvzcv3ykj                       Tiza Arellano   \n",
              "2  z12quxxp2vutflkxv04cihggzt2azl34pms0k  Prìñçeśś Âliś Łøvê Dømíñø Mâđiś™ ﻿   \n",
              "3      z12icv3ysqvlwth2c23eddlykyqut5z1h                       Eric Gonzalez   \n",
              "4      z133stly3kete3tly22petvwdpmghrlli                       Analena López   \n",
              "\n",
              "                         DATE  \\\n",
              "0  2015-05-29T02:30:18.971000   \n",
              "1  2015-05-29T00:14:48.748000   \n",
              "2  2015-05-28T21:00:08.607000   \n",
              "3  2015-05-28T20:47:12.193000   \n",
              "4  2015-05-28T17:08:29.827000   \n",
              "\n",
              "                                             CONTENT  CLASS  \n",
              "0                                         Nice song﻿      0  \n",
              "1                                      I love song ﻿      0  \n",
              "2                                      I love song ﻿      0  \n",
              "3  860,000,000 lets make it first female to reach...      0  \n",
              "4                      shakira is best for worldcup﻿      0  "
            ]
          },
          "execution_count": 8,
          "metadata": {},
          "output_type": "execute_result"
        }
      ],
      "source": [
        "df5.head()\n"
      ]
    },
    {
      "cell_type": "code",
      "execution_count": 8,
      "metadata": {
        "id": "eH2Oai3lEGFZ"
      },
      "outputs": [],
      "source": [
        "frames=[df1,df2,df3,df4,df5]"
      ]
    },
    {
      "cell_type": "code",
      "execution_count": 9,
      "metadata": {
        "colab": {
          "base_uri": "https://localhost:8080/",
          "height": 614
        },
        "id": "39sPXA5LEoR0",
        "outputId": "146247ca-42fe-4007-9b71-e65116c79e9c"
      },
      "outputs": [
        {
          "data": {
            "text/html": [
              "<div>\n",
              "<style scoped>\n",
              "    .dataframe tbody tr th:only-of-type {\n",
              "        vertical-align: middle;\n",
              "    }\n",
              "\n",
              "    .dataframe tbody tr th {\n",
              "        vertical-align: top;\n",
              "    }\n",
              "\n",
              "    .dataframe thead th {\n",
              "        text-align: right;\n",
              "    }\n",
              "</style>\n",
              "<table border=\"1\" class=\"dataframe\">\n",
              "  <thead>\n",
              "    <tr style=\"text-align: right;\">\n",
              "      <th></th>\n",
              "      <th></th>\n",
              "      <th>COMMENT_ID</th>\n",
              "      <th>AUTHOR</th>\n",
              "      <th>DATE</th>\n",
              "      <th>CONTENT</th>\n",
              "      <th>CLASS</th>\n",
              "    </tr>\n",
              "  </thead>\n",
              "  <tbody>\n",
              "    <tr>\n",
              "      <th rowspan=\"5\" valign=\"top\">Psy</th>\n",
              "      <th>0</th>\n",
              "      <td>z12rwfnyyrbsefonb232i5ehdxzkjzjs2</td>\n",
              "      <td>Lisa Wellas</td>\n",
              "      <td>NaN</td>\n",
              "      <td>+447935454150 lovely girl talk to me xxx﻿</td>\n",
              "      <td>1</td>\n",
              "    </tr>\n",
              "    <tr>\n",
              "      <th>1</th>\n",
              "      <td>z130wpnwwnyuetxcn23xf5k5ynmkdpjrj04</td>\n",
              "      <td>jason graham</td>\n",
              "      <td>2015-05-29T02:26:10.652000</td>\n",
              "      <td>I always end up coming back to this song&lt;br /&gt;﻿</td>\n",
              "      <td>0</td>\n",
              "    </tr>\n",
              "    <tr>\n",
              "      <th>2</th>\n",
              "      <td>z13vsfqirtavjvu0t22ezrgzyorwxhpf3</td>\n",
              "      <td>Ajkal Khan</td>\n",
              "      <td>NaN</td>\n",
              "      <td>my sister just received over 6,500 new &lt;a rel=...</td>\n",
              "      <td>1</td>\n",
              "    </tr>\n",
              "    <tr>\n",
              "      <th>3</th>\n",
              "      <td>z12wjzc4eprnvja4304cgbbizuved35wxcs</td>\n",
              "      <td>Dakota Taylor</td>\n",
              "      <td>2015-05-29T02:13:07.810000</td>\n",
              "      <td>Cool﻿</td>\n",
              "      <td>0</td>\n",
              "    </tr>\n",
              "    <tr>\n",
              "      <th>4</th>\n",
              "      <td>z13xjfr42z3uxdz2223gx5rrzs3dt5hna</td>\n",
              "      <td>Jihad Naser</td>\n",
              "      <td>NaN</td>\n",
              "      <td>Hello I&amp;#39;am from Palastine﻿</td>\n",
              "      <td>1</td>\n",
              "    </tr>\n",
              "    <tr>\n",
              "      <th>...</th>\n",
              "      <th>...</th>\n",
              "      <td>...</td>\n",
              "      <td>...</td>\n",
              "      <td>...</td>\n",
              "      <td>...</td>\n",
              "      <td>...</td>\n",
              "    </tr>\n",
              "    <tr>\n",
              "      <th rowspan=\"5\" valign=\"top\">Shakira</th>\n",
              "      <th>365</th>\n",
              "      <td>_2viQ_Qnc6-bMSjqyL1NKj57ROicCSJV5SwTrw-RFFA</td>\n",
              "      <td>Katie Mettam</td>\n",
              "      <td>2013-07-13T13:27:39.441000</td>\n",
              "      <td>I love this song because we sing it at Camp al...</td>\n",
              "      <td>0</td>\n",
              "    </tr>\n",
              "    <tr>\n",
              "      <th>366</th>\n",
              "      <td>_2viQ_Qnc6-pY-1yR6K2FhmC5i48-WuNx5CumlHLDAI</td>\n",
              "      <td>Sabina Pearson-Smith</td>\n",
              "      <td>2013-07-13T13:14:30.021000</td>\n",
              "      <td>I love this song for two reasons: 1.it is abou...</td>\n",
              "      <td>0</td>\n",
              "    </tr>\n",
              "    <tr>\n",
              "      <th>367</th>\n",
              "      <td>_2viQ_Qnc6_k_n_Bse9zVhJP8tJReZpo8uM2uZfnzDs</td>\n",
              "      <td>jeffrey jules</td>\n",
              "      <td>2013-07-13T12:09:31.188000</td>\n",
              "      <td>wow</td>\n",
              "      <td>0</td>\n",
              "    </tr>\n",
              "    <tr>\n",
              "      <th>368</th>\n",
              "      <td>_2viQ_Qnc6_yBt8UGMWyg3vh0PulTqcqyQtdE7d4Fl0</td>\n",
              "      <td>Aishlin Maciel</td>\n",
              "      <td>2013-07-13T11:17:52.308000</td>\n",
              "      <td>Shakira u are so wiredo</td>\n",
              "      <td>0</td>\n",
              "    </tr>\n",
              "    <tr>\n",
              "      <th>369</th>\n",
              "      <td>_2viQ_Qnc685RPw1aSa1tfrIuHXRvAQ2rPT9R06KTqA</td>\n",
              "      <td>Latin Bosch</td>\n",
              "      <td>2013-07-12T22:33:27.916000</td>\n",
              "      <td>Shakira is the best dancer</td>\n",
              "      <td>0</td>\n",
              "    </tr>\n",
              "  </tbody>\n",
              "</table>\n",
              "<p>1956 rows × 5 columns</p>\n",
              "</div>"
            ],
            "text/plain": [
              "                                              COMMENT_ID  \\\n",
              "Psy     0              z12rwfnyyrbsefonb232i5ehdxzkjzjs2   \n",
              "        1            z130wpnwwnyuetxcn23xf5k5ynmkdpjrj04   \n",
              "        2              z13vsfqirtavjvu0t22ezrgzyorwxhpf3   \n",
              "        3            z12wjzc4eprnvja4304cgbbizuved35wxcs   \n",
              "        4              z13xjfr42z3uxdz2223gx5rrzs3dt5hna   \n",
              "...                                                  ...   \n",
              "Shakira 365  _2viQ_Qnc6-bMSjqyL1NKj57ROicCSJV5SwTrw-RFFA   \n",
              "        366  _2viQ_Qnc6-pY-1yR6K2FhmC5i48-WuNx5CumlHLDAI   \n",
              "        367  _2viQ_Qnc6_k_n_Bse9zVhJP8tJReZpo8uM2uZfnzDs   \n",
              "        368  _2viQ_Qnc6_yBt8UGMWyg3vh0PulTqcqyQtdE7d4Fl0   \n",
              "        369  _2viQ_Qnc685RPw1aSa1tfrIuHXRvAQ2rPT9R06KTqA   \n",
              "\n",
              "                           AUTHOR                        DATE  \\\n",
              "Psy     0             Lisa Wellas                         NaN   \n",
              "        1            jason graham  2015-05-29T02:26:10.652000   \n",
              "        2              Ajkal Khan                         NaN   \n",
              "        3           Dakota Taylor  2015-05-29T02:13:07.810000   \n",
              "        4             Jihad Naser                         NaN   \n",
              "...                           ...                         ...   \n",
              "Shakira 365          Katie Mettam  2013-07-13T13:27:39.441000   \n",
              "        366  Sabina Pearson-Smith  2013-07-13T13:14:30.021000   \n",
              "        367         jeffrey jules  2013-07-13T12:09:31.188000   \n",
              "        368        Aishlin Maciel  2013-07-13T11:17:52.308000   \n",
              "        369           Latin Bosch  2013-07-12T22:33:27.916000   \n",
              "\n",
              "                                                       CONTENT  CLASS  \n",
              "Psy     0            +447935454150 lovely girl talk to me xxx﻿      1  \n",
              "        1      I always end up coming back to this song<br />﻿      0  \n",
              "        2    my sister just received over 6,500 new <a rel=...      1  \n",
              "        3                                                Cool﻿      0  \n",
              "        4                       Hello I&#39;am from Palastine﻿      1  \n",
              "...                                                        ...    ...  \n",
              "Shakira 365  I love this song because we sing it at Camp al...      0  \n",
              "        366  I love this song for two reasons: 1.it is abou...      0  \n",
              "        367                                                wow      0  \n",
              "        368                            Shakira u are so wiredo      0  \n",
              "        369                         Shakira is the best dancer      0  \n",
              "\n",
              "[1956 rows x 5 columns]"
            ]
          },
          "execution_count": 9,
          "metadata": {},
          "output_type": "execute_result"
        }
      ],
      "source": [
        "keys = [\"Psy\",\"KatyPerry\",\"LMFAO\",\"Eminem\",\"Shakira\"]\n",
        "df_with_keys = pd.concat(frames,keys = keys)\n",
        "df_with_keys"
      ]
    },
    {
      "cell_type": "code",
      "execution_count": 10,
      "metadata": {
        "colab": {
          "base_uri": "https://localhost:8080/",
          "height": 597
        },
        "id": "zjXWAr59Ftpt",
        "outputId": "5f6c02d0-04b9-42aa-8459-3d4faff3bb4d"
      },
      "outputs": [
        {
          "data": {
            "text/html": [
              "<div>\n",
              "<style scoped>\n",
              "    .dataframe tbody tr th:only-of-type {\n",
              "        vertical-align: middle;\n",
              "    }\n",
              "\n",
              "    .dataframe tbody tr th {\n",
              "        vertical-align: top;\n",
              "    }\n",
              "\n",
              "    .dataframe thead th {\n",
              "        text-align: right;\n",
              "    }\n",
              "</style>\n",
              "<table border=\"1\" class=\"dataframe\">\n",
              "  <thead>\n",
              "    <tr style=\"text-align: right;\">\n",
              "      <th></th>\n",
              "      <th>COMMENT_ID</th>\n",
              "      <th>AUTHOR</th>\n",
              "      <th>DATE</th>\n",
              "      <th>CONTENT</th>\n",
              "      <th>CLASS</th>\n",
              "    </tr>\n",
              "  </thead>\n",
              "  <tbody>\n",
              "    <tr>\n",
              "      <th>0</th>\n",
              "      <td>z13uwn2heqndtr5g304ccv5j5kqqzxjadmc0k</td>\n",
              "      <td>Corey Wilson</td>\n",
              "      <td>2015-05-28T21:39:52.376000</td>\n",
              "      <td>&lt;a href=\"http://www.youtube.com/watch?v=KQ6zr6...</td>\n",
              "      <td>0</td>\n",
              "    </tr>\n",
              "    <tr>\n",
              "      <th>1</th>\n",
              "      <td>z124jvczaz3dxhnbc04cffk43oiugj25yzo0k</td>\n",
              "      <td>Epic Gaming</td>\n",
              "      <td>2015-05-28T20:07:20.610000</td>\n",
              "      <td>wierd but funny﻿</td>\n",
              "      <td>0</td>\n",
              "    </tr>\n",
              "    <tr>\n",
              "      <th>2</th>\n",
              "      <td>z13tczjy5xj0vjmu5231unho1ofey5zdk</td>\n",
              "      <td>LaS Music</td>\n",
              "      <td>2015-05-28T19:23:35.355000</td>\n",
              "      <td>Hey guys, I&amp;#39;m a human.&lt;br /&gt;&lt;br /&gt;&lt;br /&gt;Bu...</td>\n",
              "      <td>1</td>\n",
              "    </tr>\n",
              "    <tr>\n",
              "      <th>3</th>\n",
              "      <td>z13tzr0hdpnayhqqc04cd3zqqqjkf3ngckk0k</td>\n",
              "      <td>Cheryl Fox</td>\n",
              "      <td>2015-05-28T17:49:35.294000</td>\n",
              "      <td>Party Rock....lol...who wants to shuffle!!!﻿</td>\n",
              "      <td>0</td>\n",
              "    </tr>\n",
              "    <tr>\n",
              "      <th>4</th>\n",
              "      <td>z12pcvix4zedcjvyb04ccr1r0mr2g5xwyng0k</td>\n",
              "      <td>PATRICK_TW</td>\n",
              "      <td>2015-05-28T16:28:26.818000</td>\n",
              "      <td>Party rock﻿</td>\n",
              "      <td>0</td>\n",
              "    </tr>\n",
              "    <tr>\n",
              "      <th>...</th>\n",
              "      <td>...</td>\n",
              "      <td>...</td>\n",
              "      <td>...</td>\n",
              "      <td>...</td>\n",
              "      <td>...</td>\n",
              "    </tr>\n",
              "    <tr>\n",
              "      <th>433</th>\n",
              "      <td>z13lvr4iupatjlrem231yvpxolzvspwdl</td>\n",
              "      <td>Salty Croc</td>\n",
              "      <td>2014-07-22T04:20:37.489000</td>\n",
              "      <td>Like this comment for no reason﻿</td>\n",
              "      <td>1</td>\n",
              "    </tr>\n",
              "    <tr>\n",
              "      <th>434</th>\n",
              "      <td>z12lxhrqdkyusbkji04cihtrvn3jvxnqszg0k</td>\n",
              "      <td>Bob Orton</td>\n",
              "      <td>2014-07-22T00:26:50.820000</td>\n",
              "      <td>love this song﻿</td>\n",
              "      <td>0</td>\n",
              "    </tr>\n",
              "    <tr>\n",
              "      <th>435</th>\n",
              "      <td>z12xhdjrsxm3v550w22oynsjrnmvjhkvj</td>\n",
              "      <td>LuckyMusiqLive</td>\n",
              "      <td>2014-07-21T22:25:54.048000</td>\n",
              "      <td>this song is awesome. these guys are the best....</td>\n",
              "      <td>1</td>\n",
              "    </tr>\n",
              "    <tr>\n",
              "      <th>436</th>\n",
              "      <td>z13msngo3qvwx1ym223pehqgouexzdmnm</td>\n",
              "      <td>xXxPWND 420xXx</td>\n",
              "      <td>2014-07-21T11:05:51.945000</td>\n",
              "      <td>HOW MANY THUMBS UP FOR LOUIS SAVING THE DAY!?!?﻿</td>\n",
              "      <td>1</td>\n",
              "    </tr>\n",
              "    <tr>\n",
              "      <th>437</th>\n",
              "      <td>z120hptrylzqzdsoj04cepaonmuyyr1afj0</td>\n",
              "      <td>Matheus Macedo</td>\n",
              "      <td>2014-07-21T04:24:24.585000</td>\n",
              "      <td>NICE :3﻿</td>\n",
              "      <td>0</td>\n",
              "    </tr>\n",
              "  </tbody>\n",
              "</table>\n",
              "<p>438 rows × 5 columns</p>\n",
              "</div>"
            ],
            "text/plain": [
              "                                COMMENT_ID          AUTHOR  \\\n",
              "0    z13uwn2heqndtr5g304ccv5j5kqqzxjadmc0k    Corey Wilson   \n",
              "1    z124jvczaz3dxhnbc04cffk43oiugj25yzo0k     Epic Gaming   \n",
              "2        z13tczjy5xj0vjmu5231unho1ofey5zdk       LaS Music   \n",
              "3    z13tzr0hdpnayhqqc04cd3zqqqjkf3ngckk0k      Cheryl Fox   \n",
              "4    z12pcvix4zedcjvyb04ccr1r0mr2g5xwyng0k      PATRICK_TW   \n",
              "..                                     ...             ...   \n",
              "433      z13lvr4iupatjlrem231yvpxolzvspwdl      Salty Croc   \n",
              "434  z12lxhrqdkyusbkji04cihtrvn3jvxnqszg0k       Bob Orton   \n",
              "435      z12xhdjrsxm3v550w22oynsjrnmvjhkvj  LuckyMusiqLive   \n",
              "436      z13msngo3qvwx1ym223pehqgouexzdmnm  xXxPWND 420xXx   \n",
              "437    z120hptrylzqzdsoj04cepaonmuyyr1afj0  Matheus Macedo   \n",
              "\n",
              "                           DATE  \\\n",
              "0    2015-05-28T21:39:52.376000   \n",
              "1    2015-05-28T20:07:20.610000   \n",
              "2    2015-05-28T19:23:35.355000   \n",
              "3    2015-05-28T17:49:35.294000   \n",
              "4    2015-05-28T16:28:26.818000   \n",
              "..                          ...   \n",
              "433  2014-07-22T04:20:37.489000   \n",
              "434  2014-07-22T00:26:50.820000   \n",
              "435  2014-07-21T22:25:54.048000   \n",
              "436  2014-07-21T11:05:51.945000   \n",
              "437  2014-07-21T04:24:24.585000   \n",
              "\n",
              "                                               CONTENT  CLASS  \n",
              "0    <a href=\"http://www.youtube.com/watch?v=KQ6zr6...      0  \n",
              "1                                     wierd but funny﻿      0  \n",
              "2    Hey guys, I&#39;m a human.<br /><br /><br />Bu...      1  \n",
              "3         Party Rock....lol...who wants to shuffle!!!﻿      0  \n",
              "4                                          Party rock﻿      0  \n",
              "..                                                 ...    ...  \n",
              "433                   Like this comment for no reason﻿      1  \n",
              "434                                    love this song﻿      0  \n",
              "435  this song is awesome. these guys are the best....      1  \n",
              "436   HOW MANY THUMBS UP FOR LOUIS SAVING THE DAY!?!?﻿      1  \n",
              "437                                           NICE :3﻿      0  \n",
              "\n",
              "[438 rows x 5 columns]"
            ]
          },
          "execution_count": 10,
          "metadata": {},
          "output_type": "execute_result"
        }
      ],
      "source": [
        "df_with_keys.loc[\"Eminem\"]"
      ]
    },
    {
      "cell_type": "code",
      "execution_count": 11,
      "metadata": {
        "id": "Ls5vslELHbVl"
      },
      "outputs": [],
      "source": [
        "df_with_keys.to_csv(\"YoutubeSpamMergedData01.csv\")"
      ]
    },
    {
      "cell_type": "code",
      "execution_count": 12,
      "metadata": {
        "colab": {
          "base_uri": "https://localhost:8080/",
          "height": 718
        },
        "id": "E-oM7IiAH7Rm",
        "outputId": "6261c996-7580-4455-a99f-1583f4203bdc"
      },
      "outputs": [
        {
          "data": {
            "text/html": [
              "<div>\n",
              "<style scoped>\n",
              "    .dataframe tbody tr th:only-of-type {\n",
              "        vertical-align: middle;\n",
              "    }\n",
              "\n",
              "    .dataframe tbody tr th {\n",
              "        vertical-align: top;\n",
              "    }\n",
              "\n",
              "    .dataframe thead th {\n",
              "        text-align: right;\n",
              "    }\n",
              "</style>\n",
              "<table border=\"1\" class=\"dataframe\">\n",
              "  <thead>\n",
              "    <tr style=\"text-align: right;\">\n",
              "      <th></th>\n",
              "      <th>Unnamed: 0</th>\n",
              "      <th>Unnamed: 1</th>\n",
              "      <th>COMMENT_ID</th>\n",
              "      <th>AUTHOR</th>\n",
              "      <th>DATE</th>\n",
              "      <th>CONTENT</th>\n",
              "      <th>CLASS</th>\n",
              "    </tr>\n",
              "  </thead>\n",
              "  <tbody>\n",
              "    <tr>\n",
              "      <th>0</th>\n",
              "      <td>Psy</td>\n",
              "      <td>0</td>\n",
              "      <td>z12rwfnyyrbsefonb232i5ehdxzkjzjs2</td>\n",
              "      <td>Lisa Wellas</td>\n",
              "      <td>NaN</td>\n",
              "      <td>+447935454150 lovely girl talk to me xxx﻿</td>\n",
              "      <td>1</td>\n",
              "    </tr>\n",
              "    <tr>\n",
              "      <th>1</th>\n",
              "      <td>Psy</td>\n",
              "      <td>1</td>\n",
              "      <td>z130wpnwwnyuetxcn23xf5k5ynmkdpjrj04</td>\n",
              "      <td>jason graham</td>\n",
              "      <td>2015-05-29T02:26:10.652000</td>\n",
              "      <td>I always end up coming back to this song&lt;br /&gt;﻿</td>\n",
              "      <td>0</td>\n",
              "    </tr>\n",
              "    <tr>\n",
              "      <th>2</th>\n",
              "      <td>Psy</td>\n",
              "      <td>2</td>\n",
              "      <td>z13vsfqirtavjvu0t22ezrgzyorwxhpf3</td>\n",
              "      <td>Ajkal Khan</td>\n",
              "      <td>NaN</td>\n",
              "      <td>my sister just received over 6,500 new &lt;a rel=...</td>\n",
              "      <td>1</td>\n",
              "    </tr>\n",
              "    <tr>\n",
              "      <th>3</th>\n",
              "      <td>Psy</td>\n",
              "      <td>3</td>\n",
              "      <td>z12wjzc4eprnvja4304cgbbizuved35wxcs</td>\n",
              "      <td>Dakota Taylor</td>\n",
              "      <td>2015-05-29T02:13:07.810000</td>\n",
              "      <td>Cool﻿</td>\n",
              "      <td>0</td>\n",
              "    </tr>\n",
              "    <tr>\n",
              "      <th>4</th>\n",
              "      <td>Psy</td>\n",
              "      <td>4</td>\n",
              "      <td>z13xjfr42z3uxdz2223gx5rrzs3dt5hna</td>\n",
              "      <td>Jihad Naser</td>\n",
              "      <td>NaN</td>\n",
              "      <td>Hello I&amp;#39;am from Palastine﻿</td>\n",
              "      <td>1</td>\n",
              "    </tr>\n",
              "  </tbody>\n",
              "</table>\n",
              "</div>"
            ],
            "text/plain": [
              "  Unnamed: 0  Unnamed: 1                           COMMENT_ID         AUTHOR  \\\n",
              "0        Psy           0    z12rwfnyyrbsefonb232i5ehdxzkjzjs2    Lisa Wellas   \n",
              "1        Psy           1  z130wpnwwnyuetxcn23xf5k5ynmkdpjrj04   jason graham   \n",
              "2        Psy           2    z13vsfqirtavjvu0t22ezrgzyorwxhpf3     Ajkal Khan   \n",
              "3        Psy           3  z12wjzc4eprnvja4304cgbbizuved35wxcs  Dakota Taylor   \n",
              "4        Psy           4    z13xjfr42z3uxdz2223gx5rrzs3dt5hna    Jihad Naser   \n",
              "\n",
              "                         DATE  \\\n",
              "0                         NaN   \n",
              "1  2015-05-29T02:26:10.652000   \n",
              "2                         NaN   \n",
              "3  2015-05-29T02:13:07.810000   \n",
              "4                         NaN   \n",
              "\n",
              "                                             CONTENT  CLASS  \n",
              "0          +447935454150 lovely girl talk to me xxx﻿      1  \n",
              "1    I always end up coming back to this song<br />﻿      0  \n",
              "2  my sister just received over 6,500 new <a rel=...      1  \n",
              "3                                              Cool﻿      0  \n",
              "4                     Hello I&#39;am from Palastine﻿      1  "
            ]
          },
          "execution_count": 12,
          "metadata": {},
          "output_type": "execute_result"
        }
      ],
      "source": [
        "df= pd.read_csv(\"YoutubeSpamMergedData01.csv\")\n",
        "df.head()"
      ]
    },
    {
      "cell_type": "code",
      "execution_count": 13,
      "metadata": {
        "colab": {
          "base_uri": "https://localhost:8080/"
        },
        "id": "vtEG7HwTH-T9",
        "outputId": "fac0192a-4450-4875-eb78-d0b83f145f26"
      },
      "outputs": [
        {
          "data": {
            "text/plain": [
              "13692"
            ]
          },
          "execution_count": 13,
          "metadata": {},
          "output_type": "execute_result"
        }
      ],
      "source": [
        "df.size"
      ]
    },
    {
      "cell_type": "code",
      "execution_count": 14,
      "metadata": {
        "colab": {
          "base_uri": "https://localhost:8080/"
        },
        "id": "ISm4LCSVIcc9",
        "outputId": "a627f6d1-5048-4de9-be9f-2f2d34f257da"
      },
      "outputs": [
        {
          "data": {
            "text/plain": [
              "Unnamed: 0    object\n",
              "Unnamed: 1     int64\n",
              "COMMENT_ID    object\n",
              "AUTHOR        object\n",
              "DATE          object\n",
              "CONTENT       object\n",
              "CLASS          int64\n",
              "dtype: object"
            ]
          },
          "execution_count": 14,
          "metadata": {},
          "output_type": "execute_result"
        }
      ],
      "source": [
        "df.dtypes"
      ]
    },
    {
      "cell_type": "code",
      "execution_count": 15,
      "metadata": {
        "colab": {
          "base_uri": "https://localhost:8080/"
        },
        "id": "z0Fmc3BLIsUd",
        "outputId": "cda3adc8-a2a0-44e8-c84b-c469a3a6535e"
      },
      "outputs": [
        {
          "data": {
            "text/plain": [
              "Unnamed: 0      0\n",
              "Unnamed: 1      0\n",
              "COMMENT_ID      0\n",
              "AUTHOR          0\n",
              "DATE          245\n",
              "CONTENT         0\n",
              "CLASS           0\n",
              "dtype: int64"
            ]
          },
          "execution_count": 15,
          "metadata": {},
          "output_type": "execute_result"
        }
      ],
      "source": [
        "# checking for missing nan\n",
        "df.isnull().sum()"
      ]
    },
    {
      "cell_type": "code",
      "execution_count": 16,
      "metadata": {
        "colab": {
          "base_uri": "https://localhost:8080/"
        },
        "id": "otaHDLn_IymP",
        "outputId": "ef9ebde4-46eb-4fe4-f12c-e3a91ccf4dcb"
      },
      "outputs": [
        {
          "data": {
            "text/plain": [
              "0                              NaN\n",
              "1       2015-05-29T02:26:10.652000\n",
              "2                              NaN\n",
              "3       2015-05-29T02:13:07.810000\n",
              "4                              NaN\n",
              "                   ...            \n",
              "1951    2013-07-13T13:27:39.441000\n",
              "1952    2013-07-13T13:14:30.021000\n",
              "1953    2013-07-13T12:09:31.188000\n",
              "1954    2013-07-13T11:17:52.308000\n",
              "1955    2013-07-12T22:33:27.916000\n",
              "Name: DATE, Length: 1956, dtype: object"
            ]
          },
          "execution_count": 16,
          "metadata": {},
          "output_type": "execute_result"
        }
      ],
      "source": [
        "df.DATE"
      ]
    },
    {
      "cell_type": "code",
      "execution_count": 17,
      "metadata": {
        "colab": {
          "base_uri": "https://localhost:8080/"
        },
        "id": "Nq4v6kr5JDSk",
        "outputId": "d5261723-7878-4680-8764-d5ded2d1555e"
      },
      "outputs": [
        {
          "data": {
            "text/plain": [
              "0                Lisa Wellas\n",
              "1               jason graham\n",
              "2                 Ajkal Khan\n",
              "3              Dakota Taylor\n",
              "4                Jihad Naser\n",
              "                ...         \n",
              "1951            Katie Mettam\n",
              "1952    Sabina Pearson-Smith\n",
              "1953           jeffrey jules\n",
              "1954          Aishlin Maciel\n",
              "1955             Latin Bosch\n",
              "Name: AUTHOR, Length: 1956, dtype: object"
            ]
          },
          "execution_count": 17,
          "metadata": {},
          "output_type": "execute_result"
        }
      ],
      "source": [
        "df.AUTHOR"
      ]
    },
    {
      "cell_type": "code",
      "execution_count": 18,
      "metadata": {},
      "outputs": [
        {
          "data": {
            "text/plain": [
              "(1956, 7)"
            ]
          },
          "execution_count": 18,
          "metadata": {},
          "output_type": "execute_result"
        }
      ],
      "source": [
        "df.shape"
      ]
    },
    {
      "cell_type": "code",
      "execution_count": 19,
      "metadata": {
        "id": "VhWUPhFtJQOU"
      },
      "outputs": [],
      "source": [
        "df_data = df[['CONTENT','CLASS']]"
      ]
    },
    {
      "cell_type": "code",
      "execution_count": 20,
      "metadata": {
        "colab": {
          "base_uri": "https://localhost:8080/",
          "height": 423
        },
        "id": "ZQNE54EVKOby",
        "outputId": "c7b05583-36d4-4f58-d4b0-63b7ce9e6c02"
      },
      "outputs": [
        {
          "data": {
            "text/html": [
              "<div>\n",
              "<style scoped>\n",
              "    .dataframe tbody tr th:only-of-type {\n",
              "        vertical-align: middle;\n",
              "    }\n",
              "\n",
              "    .dataframe tbody tr th {\n",
              "        vertical-align: top;\n",
              "    }\n",
              "\n",
              "    .dataframe thead th {\n",
              "        text-align: right;\n",
              "    }\n",
              "</style>\n",
              "<table border=\"1\" class=\"dataframe\">\n",
              "  <thead>\n",
              "    <tr style=\"text-align: right;\">\n",
              "      <th></th>\n",
              "      <th>CONTENT</th>\n",
              "      <th>CLASS</th>\n",
              "    </tr>\n",
              "  </thead>\n",
              "  <tbody>\n",
              "    <tr>\n",
              "      <th>0</th>\n",
              "      <td>+447935454150 lovely girl talk to me xxx﻿</td>\n",
              "      <td>1</td>\n",
              "    </tr>\n",
              "    <tr>\n",
              "      <th>1</th>\n",
              "      <td>I always end up coming back to this song&lt;br /&gt;﻿</td>\n",
              "      <td>0</td>\n",
              "    </tr>\n",
              "    <tr>\n",
              "      <th>2</th>\n",
              "      <td>my sister just received over 6,500 new &lt;a rel=...</td>\n",
              "      <td>1</td>\n",
              "    </tr>\n",
              "    <tr>\n",
              "      <th>3</th>\n",
              "      <td>Cool﻿</td>\n",
              "      <td>0</td>\n",
              "    </tr>\n",
              "    <tr>\n",
              "      <th>4</th>\n",
              "      <td>Hello I&amp;#39;am from Palastine﻿</td>\n",
              "      <td>1</td>\n",
              "    </tr>\n",
              "    <tr>\n",
              "      <th>...</th>\n",
              "      <td>...</td>\n",
              "      <td>...</td>\n",
              "    </tr>\n",
              "    <tr>\n",
              "      <th>1951</th>\n",
              "      <td>I love this song because we sing it at Camp al...</td>\n",
              "      <td>0</td>\n",
              "    </tr>\n",
              "    <tr>\n",
              "      <th>1952</th>\n",
              "      <td>I love this song for two reasons: 1.it is abou...</td>\n",
              "      <td>0</td>\n",
              "    </tr>\n",
              "    <tr>\n",
              "      <th>1953</th>\n",
              "      <td>wow</td>\n",
              "      <td>0</td>\n",
              "    </tr>\n",
              "    <tr>\n",
              "      <th>1954</th>\n",
              "      <td>Shakira u are so wiredo</td>\n",
              "      <td>0</td>\n",
              "    </tr>\n",
              "    <tr>\n",
              "      <th>1955</th>\n",
              "      <td>Shakira is the best dancer</td>\n",
              "      <td>0</td>\n",
              "    </tr>\n",
              "  </tbody>\n",
              "</table>\n",
              "<p>1956 rows × 2 columns</p>\n",
              "</div>"
            ],
            "text/plain": [
              "                                                CONTENT  CLASS\n",
              "0             +447935454150 lovely girl talk to me xxx﻿      1\n",
              "1       I always end up coming back to this song<br />﻿      0\n",
              "2     my sister just received over 6,500 new <a rel=...      1\n",
              "3                                                 Cool﻿      0\n",
              "4                        Hello I&#39;am from Palastine﻿      1\n",
              "...                                                 ...    ...\n",
              "1951  I love this song because we sing it at Camp al...      0\n",
              "1952  I love this song for two reasons: 1.it is abou...      0\n",
              "1953                                                wow      0\n",
              "1954                            Shakira u are so wiredo      0\n",
              "1955                         Shakira is the best dancer      0\n",
              "\n",
              "[1956 rows x 2 columns]"
            ]
          },
          "execution_count": 20,
          "metadata": {},
          "output_type": "execute_result"
        }
      ],
      "source": [
        "df_data"
      ]
    },
    {
      "cell_type": "code",
      "execution_count": 21,
      "metadata": {
        "colab": {
          "base_uri": "https://localhost:8080/"
        },
        "id": "48Hg_JrMKQTp",
        "outputId": "a739e2b2-dca9-45fc-9b49-8165a2470db5"
      },
      "outputs": [
        {
          "data": {
            "text/plain": [
              "Index(['CONTENT', 'CLASS'], dtype='object')"
            ]
          },
          "execution_count": 21,
          "metadata": {},
          "output_type": "execute_result"
        }
      ],
      "source": [
        "df_data.columns"
      ]
    },
    {
      "cell_type": "code",
      "execution_count": 22,
      "metadata": {
        "id": "15PlKqCSLMDZ"
      },
      "outputs": [],
      "source": [
        "df_x = df_data['CONTENT']\n",
        "df_y = df_data['CLASS']"
      ]
    },
    {
      "cell_type": "code",
      "execution_count": 23,
      "metadata": {
        "id": "o5HBFDU5M7bg"
      },
      "outputs": [],
      "source": [
        "cv = CountVectorizer()\n",
        "X = cv.fit_transform(df_x)"
      ]
    },
    {
      "cell_type": "code",
      "execution_count": 34,
      "metadata": {
        "colab": {
          "base_uri": "https://localhost:8080/"
        },
        "id": "N70bR0pOMOwe",
        "outputId": "d8767bbe-7b65-4f93-905d-5b74ac8914c1"
      },
      "outputs": [
        {
          "data": {
            "text/plain": [
              "0.9195046439628483"
            ]
          },
          "execution_count": 34,
          "metadata": {},
          "output_type": "execute_result"
        }
      ],
      "source": [
        "\n",
        "from sklearn.model_selection import train_test_split\n",
        "X_train,X_test,y_train,y_test = train_test_split(X,df_y,test_size=0.33,random_state = 42)\n",
        "from sklearn.naive_bayes import MultinomialNB\n",
        "clf = MultinomialNB()\n",
        "clf.fit(X_train,y_train)\n",
        "clf.score(X_test,y_test)"
      ]
    },
    {
      "cell_type": "code",
      "execution_count": 36,
      "metadata": {
        "colab": {
          "base_uri": "https://localhost:8080/",
          "height": 876
        },
        "id": "YcMdxsYuO_mb",
        "outputId": "464108a5-ab83-4fae-e8c5-103c34ddc520"
      },
      "outputs": [
        {
          "data": {
            "image/png": "[encoded data removed]",
            "text/plain": [
              "<Figure size 640x480 with 1 Axes>"
            ]
          },
          "metadata": {},
          "output_type": "display_data"
        }
      ],
      "source": [
        "from sklearn.model_selection import cross_val_score\n",
        "from sklearn.metrics import accuracy_score, precision_score, recall_score, f1_score\n",
        "import matplotlib.pyplot as plt\n",
        "\n",
        "\n",
        "# Calculate additional metrics\n",
        "y_pred = clf.predict(X_test)\n",
        "accuracy = accuracy_score(y_test, y_pred)\n",
        "precision = precision_score(y_test, y_pred)\n",
        "recall = recall_score(y_test, y_pred)\n",
        "f1 = f1_score(y_test, y_pred)\n",
        "\n",
        "\n",
        "plt.bar(['Accuracy', 'Precision', 'Recall', 'F1-Score'], [accuracy, precision, recall, f1], color='g')\n",
        "plt.title('Performance Metrics')\n",
        "plt.xlabel('Metric')\n",
        "plt.ylabel('Score')\n",
        "\n",
        "plt.tight_layout()\n",
        "plt.show()\n"
      ]
    },
    {
      "cell_type": "code",
      "execution_count": 45,
      "metadata": {},
      "outputs": [
        {
          "data": {
            "image/png": "[encoded data removed]",
            "text/plain": [
              "<Figure size 800x600 with 2 Axes>"
            ]
          },
          "metadata": {},
          "output_type": "display_data"
        }
      ],
      "source": [
        "from sklearn.metrics import accuracy_score, precision_score, recall_score, f1_score, confusion_matrix\n",
        "conf_matrix = confusion_matrix(y_test, y_pred)\n",
        "\n",
        "# Plot confusion matrix\n",
        "plt.figure(figsize=(8, 6))\n",
        "sns.heatmap(conf_matrix, annot=True, fmt='d')\n",
        "plt.title('Confusion Matrix')\n",
        "plt.xlabel('Predicted')\n",
        "plt.ylabel('Actual')\n",
        "plt.show()"
      ]
    },
    {
      "cell_type": "code",
      "execution_count": 38,
      "metadata": {
        "id": "vxNuxxCNIm1N"
      },
      "outputs": [
        {
          "name": "stdout",
          "output_type": "stream",
          "text": [
            "Precision: 0.8941504178272981\n",
            "Recall: 0.9582089552238806\n",
            "F1 Score: 0.9250720461095101\n"
          ]
        }
      ],
      "source": [
        "precision = precision_score(y_test, y_pred)\n",
        "recall = recall_score(y_test, y_pred)\n",
        "f1 = f1_score(y_test, y_pred)\n",
        "\n",
        "# Print precision, recall, and F1 score\n",
        "print(\"Precision:\", precision)\n",
        "print(\"Recall:\", recall)\n",
        "print(\"F1 Score:\", f1)"
      ]
    },
    {
      "cell_type": "code",
      "execution_count": 40,
      "metadata": {},
      "outputs": [
        {
          "name": "stdout",
          "output_type": "stream",
          "text": [
            "True Positives (TP): 321\n",
            "True Negatives (TN): 273\n",
            "False Positives (FP): 38\n",
            "False Negatives (FN): 14\n"
          ]
        }
      ],
      "source": [
        "TP = np.sum((y_test == 1) & (y_pred == 1))\n",
        "TN = np.sum((y_test == 0) & (y_pred == 0))\n",
        "FP = np.sum((y_test == 0) & (y_pred == 1))\n",
        "FN = np.sum((y_test == 1) & (y_pred == 0))\n",
        "\n",
        "# Print TP, TN, FP, FN\n",
        "print(\"True Positives (TP):\", TP)\n",
        "print(\"True Negatives (TN):\", TN)\n",
        "print(\"False Positives (FP):\", FP)\n",
        "print(\"False Negatives (FN):\", FN)"
      ]
    },
    {
      "cell_type": "code",
      "execution_count": null,
      "metadata": {},
      "outputs": [],
      "source": []
    }
  ],
  "metadata": {
    "colab": {
      "provenance": []
    },
    "kernelspec": {
      "display_name": "Python 3",
      "name": "python3"
    },
    "language_info": {
      "codemirror_mode": {
        "name": "ipython",
        "version": 3
      },
      "file_extension": ".py",
      "mimetype": "text/x-python",
      "name": "python",
      "nbconvert_exporter": "python",
      "pygments_lexer": "ipython3",
      "version": "3.9.13"
    }
  },
  "nbformat": 4,
  "nbformat_minor": 0
}
